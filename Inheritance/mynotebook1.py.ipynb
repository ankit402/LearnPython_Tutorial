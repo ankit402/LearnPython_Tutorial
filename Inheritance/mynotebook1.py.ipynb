{
 "cells": [
  {
   "metadata": {
    "ExecuteTime": {
     "end_time": "2025-06-24T13:47:20.979441Z",
     "start_time": "2025-06-24T13:47:20.964279Z"
    }
   },
   "cell_type": "code",
   "source": [
    "\n",
    "class car:\n",
    "    def __init__(self, windows, doors, enginetype):\n",
    "            self._window = windows\n",
    "            self._doors = doors\n",
    "            self._enginetype = enginetype\n",
    "\n",
    "    def drive(self):\n",
    "        print(f'the person will drive the {self._enginetype}')\n",
    "\n",
    "\n",
    "class Tesla(car):\n",
    "    def __init__(self, windows, doors, enginetype, isdriving, mileage=0):\n",
    "        super().__init__(windows,doors,enginetype)\n",
    "        self._isdriving = isdriving\n",
    "        if enginetype == \"Petrol\":\n",
    "             self._mileage = mileage + 80\n",
    "             print(f'petrol enginetype mileage: {self._mileage}')\n",
    "        else:\n",
    "            self._mileage = mileage - 60\n",
    "            print(f'electric enginetype mileage: {self._mileage}')\n",
    "\n",
    "    def selfdriving(self):\n",
    "        if self._isdriving:\n",
    "            print(f\"tesla supports automatic driving\")\n",
    "        else:\n",
    "            print(f\"tesla does not support automatic driving\")\n",
    "\n",
    "\n",
    "t1=Tesla(4,5 ,\"Petrol\", True)\n",
    "t1.drive()\n",
    "t1.selfdriving()\n",
    "\n"
   ],
   "id": "e70f7c9e35aedc84",
   "outputs": [
    {
     "name": "stdout",
     "output_type": "stream",
     "text": [
      "petrol enginetype mileage: 80\n",
      "the person will drive the Petrol\n",
      "tesla supports automatic driving\n"
     ]
    }
   ],
   "execution_count": 5
  },
  {
   "metadata": {},
   "cell_type": "code",
   "outputs": [],
   "execution_count": null,
   "source": "",
   "id": "5d24c2bfa9f0e2f2"
  }
 ],
 "metadata": {
  "kernelspec": {
   "display_name": "Python 3",
   "language": "python",
   "name": "python3"
  },
  "language_info": {
   "codemirror_mode": {
    "name": "ipython",
    "version": 2
   },
   "file_extension": ".py",
   "mimetype": "text/x-python",
   "name": "python",
   "nbconvert_exporter": "python",
   "pygments_lexer": "ipython2",
   "version": "2.7.6"
  }
 },
 "nbformat": 4,
 "nbformat_minor": 5
}
